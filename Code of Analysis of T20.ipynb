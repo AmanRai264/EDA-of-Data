{
 "cells": [
  {
   "cell_type": "code",
   "execution_count": 1,
   "id": "056911b3-7df2-4ba2-9554-9290f9cefc88",
   "metadata": {},
   "outputs": [],
   "source": [
    "import numpy as np \n",
    "import pandas as pd\n",
    "import matplotlib.pyplot as plt\n",
    "import seaborn as sns"
   ]
  },
  {
   "cell_type": "code",
   "execution_count": 2,
   "id": "84aab25a-19b8-4119-8717-7befd55a4fea",
   "metadata": {},
   "outputs": [],
   "source": [
    "batting_data = pd.read_csv('Batting summaries for every match.csv')\n"
   ]
  },
  {
   "cell_type": "code",
   "execution_count": 3,
   "id": "c8317398-0039-4ea4-9922-97ee2ff84826",
   "metadata": {},
   "outputs": [
    {
     "data": {
      "text/html": [
       "<div>\n",
       "<style scoped>\n",
       "    .dataframe tbody tr th:only-of-type {\n",
       "        vertical-align: middle;\n",
       "    }\n",
       "\n",
       "    .dataframe tbody tr th {\n",
       "        vertical-align: top;\n",
       "    }\n",
       "\n",
       "    .dataframe thead th {\n",
       "        text-align: right;\n",
       "    }\n",
       "</style>\n",
       "<table border=\"1\" class=\"dataframe\">\n",
       "  <thead>\n",
       "    <tr style=\"text-align: right;\">\n",
       "      <th></th>\n",
       "      <th>match</th>\n",
       "      <th>teamInnings</th>\n",
       "      <th>battingPos</th>\n",
       "      <th>batsmanName</th>\n",
       "      <th>runs</th>\n",
       "      <th>balls</th>\n",
       "      <th>4s</th>\n",
       "      <th>6s</th>\n",
       "      <th>SR</th>\n",
       "      <th>out/not_out</th>\n",
       "      <th>Match_Id</th>\n",
       "    </tr>\n",
       "  </thead>\n",
       "  <tbody>\n",
       "    <tr>\n",
       "      <th>0</th>\n",
       "      <td>India Vs South Africa</td>\n",
       "      <td>India</td>\n",
       "      <td>1</td>\n",
       "      <td>Rohit Sharma</td>\n",
       "      <td>9</td>\n",
       "      <td>5</td>\n",
       "      <td>2</td>\n",
       "      <td>0</td>\n",
       "      <td>180.00</td>\n",
       "      <td>out</td>\n",
       "      <td>T20I # 2729</td>\n",
       "    </tr>\n",
       "    <tr>\n",
       "      <th>1</th>\n",
       "      <td>India Vs South Africa</td>\n",
       "      <td>India</td>\n",
       "      <td>2</td>\n",
       "      <td>Virat Kohli</td>\n",
       "      <td>76</td>\n",
       "      <td>59</td>\n",
       "      <td>6</td>\n",
       "      <td>2</td>\n",
       "      <td>128.81</td>\n",
       "      <td>out</td>\n",
       "      <td>T20I # 2729</td>\n",
       "    </tr>\n",
       "    <tr>\n",
       "      <th>2</th>\n",
       "      <td>India Vs South Africa</td>\n",
       "      <td>India</td>\n",
       "      <td>3</td>\n",
       "      <td>Rishabh Pant</td>\n",
       "      <td>0</td>\n",
       "      <td>2</td>\n",
       "      <td>0</td>\n",
       "      <td>0</td>\n",
       "      <td>0.00</td>\n",
       "      <td>out</td>\n",
       "      <td>T20I # 2729</td>\n",
       "    </tr>\n",
       "    <tr>\n",
       "      <th>3</th>\n",
       "      <td>India Vs South Africa</td>\n",
       "      <td>India</td>\n",
       "      <td>4</td>\n",
       "      <td>Suryakumar Yadav</td>\n",
       "      <td>3</td>\n",
       "      <td>4</td>\n",
       "      <td>0</td>\n",
       "      <td>0</td>\n",
       "      <td>75.00</td>\n",
       "      <td>out</td>\n",
       "      <td>T20I # 2729</td>\n",
       "    </tr>\n",
       "    <tr>\n",
       "      <th>4</th>\n",
       "      <td>India Vs South Africa</td>\n",
       "      <td>India</td>\n",
       "      <td>5</td>\n",
       "      <td>Axar Patel</td>\n",
       "      <td>47</td>\n",
       "      <td>31</td>\n",
       "      <td>1</td>\n",
       "      <td>4</td>\n",
       "      <td>151.61</td>\n",
       "      <td>out</td>\n",
       "      <td>T20I # 2729</td>\n",
       "    </tr>\n",
       "  </tbody>\n",
       "</table>\n",
       "</div>"
      ],
      "text/plain": [
       "                   match teamInnings  battingPos       batsmanName  runs  \\\n",
       "0  India Vs South Africa       India           1      Rohit Sharma     9   \n",
       "1  India Vs South Africa       India           2       Virat Kohli    76   \n",
       "2  India Vs South Africa       India           3      Rishabh Pant     0   \n",
       "3  India Vs South Africa       India           4  Suryakumar Yadav     3   \n",
       "4  India Vs South Africa       India           5        Axar Patel    47   \n",
       "\n",
       "   balls  4s  6s      SR out/not_out     Match_Id  \n",
       "0      5   2   0  180.00         out  T20I # 2729  \n",
       "1     59   6   2  128.81         out  T20I # 2729  \n",
       "2      2   0   0    0.00         out  T20I # 2729  \n",
       "3      4   0   0   75.00         out  T20I # 2729  \n",
       "4     31   1   4  151.61         out  T20I # 2729  "
      ]
     },
     "execution_count": 3,
     "metadata": {},
     "output_type": "execute_result"
    }
   ],
   "source": [
    "batting_data.head()"
   ]
  },
  {
   "cell_type": "code",
   "execution_count": 4,
   "id": "d1e654fc-5490-436c-bc75-f3242c6ecade",
   "metadata": {},
   "outputs": [
    {
     "name": "stdout",
     "output_type": "stream",
     "text": [
      "<class 'pandas.core.frame.DataFrame'>\n",
      "RangeIndex: 852 entries, 0 to 851\n",
      "Data columns (total 11 columns):\n",
      " #   Column       Non-Null Count  Dtype  \n",
      "---  ------       --------------  -----  \n",
      " 0   match        852 non-null    object \n",
      " 1   teamInnings  852 non-null    object \n",
      " 2   battingPos   852 non-null    int64  \n",
      " 3   batsmanName  852 non-null    object \n",
      " 4   runs         852 non-null    int64  \n",
      " 5   balls        852 non-null    int64  \n",
      " 6   4s           852 non-null    int64  \n",
      " 7   6s           852 non-null    int64  \n",
      " 8   SR           845 non-null    float64\n",
      " 9   out/not_out  852 non-null    object \n",
      " 10  Match_Id     852 non-null    object \n",
      "dtypes: float64(1), int64(5), object(5)\n",
      "memory usage: 73.3+ KB\n"
     ]
    }
   ],
   "source": [
    "batting_data.info()"
   ]
  },
  {
   "cell_type": "code",
   "execution_count": 5,
   "id": "ee374427-48a4-4640-9bfa-f12406d13a9a",
   "metadata": {},
   "outputs": [
    {
     "data": {
      "text/plain": [
       "match          0\n",
       "teamInnings    0\n",
       "battingPos     0\n",
       "batsmanName    0\n",
       "runs           0\n",
       "balls          0\n",
       "4s             0\n",
       "6s             0\n",
       "SR             7\n",
       "out/not_out    0\n",
       "Match_Id       0\n",
       "dtype: int64"
      ]
     },
     "execution_count": 5,
     "metadata": {},
     "output_type": "execute_result"
    }
   ],
   "source": [
    "batting_data.isnull().sum()"
   ]
  },
  {
   "cell_type": "code",
   "execution_count": 6,
   "id": "665810fe-6277-4c36-b8f1-efcbed589e9d",
   "metadata": {},
   "outputs": [],
   "source": [
    "batting_data.dropna(subset=['SR'], inplace = True)"
   ]
  },
  {
   "cell_type": "code",
   "execution_count": 7,
   "id": "18e99ade-b9da-4fac-9b95-6b759f947cd7",
   "metadata": {},
   "outputs": [
    {
     "data": {
      "text/plain": [
       "match          0\n",
       "teamInnings    0\n",
       "battingPos     0\n",
       "batsmanName    0\n",
       "runs           0\n",
       "balls          0\n",
       "4s             0\n",
       "6s             0\n",
       "SR             0\n",
       "out/not_out    0\n",
       "Match_Id       0\n",
       "dtype: int64"
      ]
     },
     "execution_count": 7,
     "metadata": {},
     "output_type": "execute_result"
    }
   ],
   "source": [
    "batting_data.isnull().sum()"
   ]
  },
  {
   "cell_type": "code",
   "execution_count": 8,
   "id": "78c51b55-4624-4964-b873-fa69a1150a50",
   "metadata": {},
   "outputs": [
    {
     "data": {
      "text/plain": [
       "match           object\n",
       "teamInnings     object\n",
       "battingPos       int64\n",
       "batsmanName     object\n",
       "runs             int64\n",
       "balls            int64\n",
       "4s               int64\n",
       "6s               int64\n",
       "SR             float64\n",
       "out/not_out     object\n",
       "Match_Id        object\n",
       "dtype: object"
      ]
     },
     "execution_count": 8,
     "metadata": {},
     "output_type": "execute_result"
    }
   ],
   "source": [
    "batting_data.dtypes"
   ]
  },
  {
   "cell_type": "code",
   "execution_count": 9,
   "id": "6604ffaa-9b5f-46db-a686-b9bde02c119c",
   "metadata": {},
   "outputs": [
    {
     "data": {
      "text/plain": [
       "Index(['match', 'teamInnings', 'battingPos', 'batsmanName', 'runs', 'balls',\n",
       "       '4s', '6s', 'SR', 'out/not_out', 'Match_Id'],\n",
       "      dtype='object')"
      ]
     },
     "execution_count": 9,
     "metadata": {},
     "output_type": "execute_result"
    }
   ],
   "source": [
    "batting_data.columns"
   ]
  },
  {
   "cell_type": "code",
   "execution_count": 10,
   "id": "d3d45deb-3430-4857-ace8-ae052da3be94",
   "metadata": {},
   "outputs": [
    {
     "data": {
      "text/plain": [
       "match           object\n",
       "teamInnings     object\n",
       "battingPos       int64\n",
       "batsmanName     object\n",
       "runs             int64\n",
       "balls            int64\n",
       "4s               int64\n",
       "6s               int64\n",
       "SR             float64\n",
       "out/not_out     object\n",
       "Match_Id        object\n",
       "dtype: object"
      ]
     },
     "execution_count": 10,
     "metadata": {},
     "output_type": "execute_result"
    }
   ],
   "source": [
    "batting_data.dtypes\n"
   ]
  },
  {
   "cell_type": "code",
   "execution_count": 11,
   "id": "c0cdf976-3443-4fe8-ac6f-f574ed6a3b65",
   "metadata": {},
   "outputs": [
    {
     "name": "stdout",
     "output_type": "stream",
     "text": [
      "<class 'pandas.core.frame.DataFrame'>\n",
      "Index: 845 entries, 0 to 851\n",
      "Data columns (total 11 columns):\n",
      " #   Column       Non-Null Count  Dtype  \n",
      "---  ------       --------------  -----  \n",
      " 0   match        845 non-null    object \n",
      " 1   teamInnings  845 non-null    object \n",
      " 2   battingPos   845 non-null    int64  \n",
      " 3   batsmanName  845 non-null    object \n",
      " 4   runs         845 non-null    int64  \n",
      " 5   balls        845 non-null    int64  \n",
      " 6   4s           845 non-null    int64  \n",
      " 7   6s           845 non-null    int64  \n",
      " 8   SR           845 non-null    float64\n",
      " 9   out/not_out  845 non-null    object \n",
      " 10  Match_Id     845 non-null    object \n",
      "dtypes: float64(1), int64(5), object(5)\n",
      "memory usage: 79.2+ KB\n"
     ]
    }
   ],
   "source": [
    "batting_data.info()"
   ]
  },
  {
   "cell_type": "code",
   "execution_count": 12,
   "id": "0dff8b9d-a330-4507-8b07-1bc3ce433684",
   "metadata": {},
   "outputs": [
    {
     "data": {
      "text/plain": [
       "np.int64(0)"
      ]
     },
     "execution_count": 12,
     "metadata": {},
     "output_type": "execute_result"
    }
   ],
   "source": [
    "batting_data.duplicated().sum()"
   ]
  },
  {
   "cell_type": "code",
   "execution_count": 13,
   "id": "bbe5cf04-e19f-40da-93dc-ea139862fa5e",
   "metadata": {},
   "outputs": [],
   "source": [
    "\n",
    "has_duplicates = batting_data.duplicated().any()\n"
   ]
  },
  {
   "cell_type": "code",
   "execution_count": 14,
   "id": "5343c0d2-cdd1-4592-ae10-dd3ad73ff83d",
   "metadata": {},
   "outputs": [
    {
     "data": {
      "text/plain": [
       "np.False_"
      ]
     },
     "execution_count": 14,
     "metadata": {},
     "output_type": "execute_result"
    }
   ],
   "source": [
    "has_duplicates"
   ]
  },
  {
   "cell_type": "code",
   "execution_count": 15,
   "id": "da26245b-e7d1-4a06-8cdb-f7937c8c9a10",
   "metadata": {},
   "outputs": [],
   "source": [
    "\n",
    "negative_values = batting_data[(batting_data['runs'] < 0) | (batting_data['balls'] < 0) | (batting_data['4s'] < 0) | (batting_data['6s'] < 0)]\n"
   ]
  },
  {
   "cell_type": "code",
   "execution_count": 16,
   "id": "6b9f8232-c92a-4400-885d-ba423273aa19",
   "metadata": {},
   "outputs": [
    {
     "data": {
      "text/html": [
       "<div>\n",
       "<style scoped>\n",
       "    .dataframe tbody tr th:only-of-type {\n",
       "        vertical-align: middle;\n",
       "    }\n",
       "\n",
       "    .dataframe tbody tr th {\n",
       "        vertical-align: top;\n",
       "    }\n",
       "\n",
       "    .dataframe thead th {\n",
       "        text-align: right;\n",
       "    }\n",
       "</style>\n",
       "<table border=\"1\" class=\"dataframe\">\n",
       "  <thead>\n",
       "    <tr style=\"text-align: right;\">\n",
       "      <th></th>\n",
       "      <th>match</th>\n",
       "      <th>teamInnings</th>\n",
       "      <th>battingPos</th>\n",
       "      <th>batsmanName</th>\n",
       "      <th>runs</th>\n",
       "      <th>balls</th>\n",
       "      <th>4s</th>\n",
       "      <th>6s</th>\n",
       "      <th>SR</th>\n",
       "      <th>out/not_out</th>\n",
       "      <th>Match_Id</th>\n",
       "    </tr>\n",
       "  </thead>\n",
       "  <tbody>\n",
       "  </tbody>\n",
       "</table>\n",
       "</div>"
      ],
      "text/plain": [
       "Empty DataFrame\n",
       "Columns: [match, teamInnings, battingPos, batsmanName, runs, balls, 4s, 6s, SR, out/not_out, Match_Id]\n",
       "Index: []"
      ]
     },
     "execution_count": 16,
     "metadata": {},
     "output_type": "execute_result"
    }
   ],
   "source": [
    "negative_values"
   ]
  },
  {
   "cell_type": "code",
   "execution_count": 17,
   "id": "0a901ca5-6496-4730-980c-d1903aed09c8",
   "metadata": {},
   "outputs": [
    {
     "name": "stdout",
     "output_type": "stream",
     "text": [
      "Empty DataFrame\n",
      "Columns: [match, teamInnings, battingPos, batsmanName, runs, balls, 4s, 6s, SR, out/not_out, Match_Id]\n",
      "Index: []\n"
     ]
    }
   ],
   "source": [
    "#logical consistency check\n",
    "negative_values = batting_data[(batting_data['runs'] < 0) | (batting_data['balls'] < 0) | (batting_data['4s'] < 0) | (batting_data['6s'] < 0)]\n",
    "\n",
    "print(negative_values)"
   ]
  },
  {
   "cell_type": "code",
   "execution_count": 18,
   "id": "74b7748a-4201-4445-a956-b3f47567cb7c",
   "metadata": {},
   "outputs": [
    {
     "data": {
      "text/plain": [
       "0       9\n",
       "1      76\n",
       "2       0\n",
       "3       3\n",
       "4      47\n",
       "       ..\n",
       "847    65\n",
       "848    94\n",
       "849     3\n",
       "850    41\n",
       "851    45\n",
       "Name: runs, Length: 845, dtype: int64"
      ]
     },
     "execution_count": 18,
     "metadata": {},
     "output_type": "execute_result"
    }
   ],
   "source": [
    "batting_data['runs']"
   ]
  },
  {
   "cell_type": "code",
   "execution_count": 19,
   "id": "fc3158ac-c94c-47ae-bd42-31693146e1c3",
   "metadata": {},
   "outputs": [],
   "source": [
    "ap= batting_data[(batting_data['runs']>90)]\n",
    "\n"
   ]
  },
  {
   "cell_type": "code",
   "execution_count": 20,
   "id": "e4746196-6043-4b0c-a23d-2b0a60973a34",
   "metadata": {},
   "outputs": [
    {
     "name": "stdout",
     "output_type": "stream",
     "text": [
      "                                  match               teamInnings  battingPos  \\\n",
      "70                   India Vs Australia                     India           1   \n",
      "245          West Indies Vs Afghanistan               West Indies           3   \n",
      "848  Canada Vs United States of America  United States of America           4   \n",
      "\n",
      "         batsmanName  runs  balls  4s  6s      SR out/not_out     Match_Id  \n",
      "70      Rohit Sharma    92     41   7   8  224.39         out  T20I # 2721  \n",
      "245  Nicholas Pooran    98     53   6   8  184.90         out  T20I # 2703  \n",
      "848      Aaron Jones    94     40   4  10  235.00     not out  T20I # 2632  \n"
     ]
    }
   ],
   "source": [
    "print(ap)"
   ]
  },
  {
   "cell_type": "code",
   "execution_count": 21,
   "id": "8d9d3fc6-24b6-4112-a173-338954d2fcb4",
   "metadata": {},
   "outputs": [
    {
     "data": {
      "text/plain": [
       "Index(['match', 'teamInnings', 'battingPos', 'batsmanName', 'runs', 'balls',\n",
       "       '4s', '6s', 'SR', 'out/not_out', 'Match_Id'],\n",
       "      dtype='object')"
      ]
     },
     "execution_count": 21,
     "metadata": {},
     "output_type": "execute_result"
    }
   ],
   "source": [
    "batting_data.columns"
   ]
  },
  {
   "cell_type": "code",
   "execution_count": 22,
   "id": "94b32294-2550-4b87-be07-0776ae86a491",
   "metadata": {},
   "outputs": [],
   "source": [
    "batting_data['out/not_out'] = batting_data['out/not_out'].str.lower()\n",
    "#Finished the job of cleaning \n",
    "# Steps i fillowed to clean the data are 1.) Checked thw Null 2.) checked the datatype 3.) Standardizing Data Formats eg. .str.lower() 4.) Removing Duplicates 5.) Validating Data Consistency\n",
    "# Refer the Link given Here for Data cleaning : https://chatgpt.com/share/67306e51-7cb4-8007-908e-7798b11252f7"
   ]
  },
  {
   "cell_type": "code",
   "execution_count": 23,
   "id": "19d7fea9-e977-44f8-86dd-4b8728708c78",
   "metadata": {},
   "outputs": [
    {
     "data": {
      "text/html": [
       "<div>\n",
       "<style scoped>\n",
       "    .dataframe tbody tr th:only-of-type {\n",
       "        vertical-align: middle;\n",
       "    }\n",
       "\n",
       "    .dataframe tbody tr th {\n",
       "        vertical-align: top;\n",
       "    }\n",
       "\n",
       "    .dataframe thead th {\n",
       "        text-align: right;\n",
       "    }\n",
       "</style>\n",
       "<table border=\"1\" class=\"dataframe\">\n",
       "  <thead>\n",
       "    <tr style=\"text-align: right;\">\n",
       "      <th></th>\n",
       "      <th>battingPos</th>\n",
       "      <th>runs</th>\n",
       "      <th>balls</th>\n",
       "      <th>4s</th>\n",
       "      <th>6s</th>\n",
       "      <th>SR</th>\n",
       "    </tr>\n",
       "  </thead>\n",
       "  <tbody>\n",
       "    <tr>\n",
       "      <th>count</th>\n",
       "      <td>845.000000</td>\n",
       "      <td>845.000000</td>\n",
       "      <td>845.000000</td>\n",
       "      <td>845.000000</td>\n",
       "      <td>845.000000</td>\n",
       "      <td>845.000000</td>\n",
       "    </tr>\n",
       "    <tr>\n",
       "      <th>mean</th>\n",
       "      <td>4.986982</td>\n",
       "      <td>14.366864</td>\n",
       "      <td>13.065089</td>\n",
       "      <td>1.137278</td>\n",
       "      <td>0.611834</td>\n",
       "      <td>89.720355</td>\n",
       "    </tr>\n",
       "    <tr>\n",
       "      <th>std</th>\n",
       "      <td>2.849058</td>\n",
       "      <td>17.056300</td>\n",
       "      <td>11.924497</td>\n",
       "      <td>1.652255</td>\n",
       "      <td>1.181754</td>\n",
       "      <td>65.208637</td>\n",
       "    </tr>\n",
       "    <tr>\n",
       "      <th>min</th>\n",
       "      <td>1.000000</td>\n",
       "      <td>0.000000</td>\n",
       "      <td>1.000000</td>\n",
       "      <td>0.000000</td>\n",
       "      <td>0.000000</td>\n",
       "      <td>0.000000</td>\n",
       "    </tr>\n",
       "    <tr>\n",
       "      <th>25%</th>\n",
       "      <td>3.000000</td>\n",
       "      <td>2.000000</td>\n",
       "      <td>4.000000</td>\n",
       "      <td>0.000000</td>\n",
       "      <td>0.000000</td>\n",
       "      <td>42.850000</td>\n",
       "    </tr>\n",
       "    <tr>\n",
       "      <th>50%</th>\n",
       "      <td>5.000000</td>\n",
       "      <td>9.000000</td>\n",
       "      <td>9.000000</td>\n",
       "      <td>0.000000</td>\n",
       "      <td>0.000000</td>\n",
       "      <td>85.710000</td>\n",
       "    </tr>\n",
       "    <tr>\n",
       "      <th>75%</th>\n",
       "      <td>7.000000</td>\n",
       "      <td>20.000000</td>\n",
       "      <td>18.000000</td>\n",
       "      <td>2.000000</td>\n",
       "      <td>1.000000</td>\n",
       "      <td>130.550000</td>\n",
       "    </tr>\n",
       "    <tr>\n",
       "      <th>max</th>\n",
       "      <td>11.000000</td>\n",
       "      <td>98.000000</td>\n",
       "      <td>59.000000</td>\n",
       "      <td>9.000000</td>\n",
       "      <td>10.000000</td>\n",
       "      <td>400.000000</td>\n",
       "    </tr>\n",
       "  </tbody>\n",
       "</table>\n",
       "</div>"
      ],
      "text/plain": [
       "       battingPos        runs       balls          4s          6s          SR\n",
       "count  845.000000  845.000000  845.000000  845.000000  845.000000  845.000000\n",
       "mean     4.986982   14.366864   13.065089    1.137278    0.611834   89.720355\n",
       "std      2.849058   17.056300   11.924497    1.652255    1.181754   65.208637\n",
       "min      1.000000    0.000000    1.000000    0.000000    0.000000    0.000000\n",
       "25%      3.000000    2.000000    4.000000    0.000000    0.000000   42.850000\n",
       "50%      5.000000    9.000000    9.000000    0.000000    0.000000   85.710000\n",
       "75%      7.000000   20.000000   18.000000    2.000000    1.000000  130.550000\n",
       "max     11.000000   98.000000   59.000000    9.000000   10.000000  400.000000"
      ]
     },
     "execution_count": 23,
     "metadata": {},
     "output_type": "execute_result"
    }
   ],
   "source": [
    "batting_data.describe()"
   ]
  },
  {
   "cell_type": "code",
   "execution_count": 24,
   "id": "ae329848-d0b7-4716-98a9-aa7bdd22c5c6",
   "metadata": {},
   "outputs": [
    {
     "data": {
      "text/plain": [
       "Index(['match', 'teamInnings', 'battingPos', 'batsmanName', 'runs', 'balls',\n",
       "       '4s', '6s', 'SR', 'out/not_out', 'Match_Id'],\n",
       "      dtype='object')"
      ]
     },
     "execution_count": 24,
     "metadata": {},
     "output_type": "execute_result"
    }
   ],
   "source": [
    "batting_data.columns"
   ]
  },
  {
   "cell_type": "code",
   "execution_count": 25,
   "id": "64381baf-5280-4128-ad40-8c5ae1a3f91f",
   "metadata": {},
   "outputs": [],
   "source": [
    "total_run = batting_data['runs'].sum()"
   ]
  },
  {
   "cell_type": "code",
   "execution_count": 26,
   "id": "53a83c4f-3dea-46e3-875a-47ea769cbe57",
   "metadata": {},
   "outputs": [
    {
     "name": "stdout",
     "output_type": "stream",
     "text": [
      "12140\n"
     ]
    }
   ],
   "source": [
    "print(total_run)"
   ]
  },
  {
   "cell_type": "code",
   "execution_count": 27,
   "id": "6fb6d561-5771-45c1-9ca7-23475aeb40cb",
   "metadata": {},
   "outputs": [],
   "source": [
    "total_runs_by_batsman = batting_data.groupby('batsmanName')['runs'].sum().reset_index()\n"
   ]
  },
  {
   "cell_type": "code",
   "execution_count": 28,
   "id": "a8f19957-ed67-4940-aabe-914a914c8189",
   "metadata": {},
   "outputs": [],
   "source": [
    "top_10_batsmen = total_runs_by_batsman.sort_values(by='runs', ascending=False).head(10)\n"
   ]
  },
  {
   "cell_type": "code",
   "execution_count": 29,
   "id": "94726f23-c263-402f-9c05-b3a504a5a86b",
   "metadata": {},
   "outputs": [
    {
     "data": {
      "text/plain": [
       "<Figure size 700x500 with 0 Axes>"
      ]
     },
     "execution_count": 29,
     "metadata": {},
     "output_type": "execute_result"
    },
    {
     "data": {
      "image/png": "[encoded data removed]",
      "text/plain": [
       "<Figure size 640x480 with 1 Axes>"
      ]
     },
     "metadata": {},
     "output_type": "display_data"
    },
    {
     "data": {
      "text/plain": [
       "<Figure size 700x500 with 0 Axes>"
      ]
     },
     "metadata": {},
     "output_type": "display_data"
    }
   ],
   "source": [
    "sns.barplot(x='runs', y='batsmanName', data=top_10_batsmen)\n",
    "plt.figure(figsize=(7,5))"
   ]
  },
  {
   "cell_type": "code",
   "execution_count": 30,
   "id": "d94023ea-8d83-4edd-9608-8caf12fca7b8",
   "metadata": {},
   "outputs": [
    {
     "ename": "NameError",
     "evalue": "name 'sobr' is not defined",
     "output_type": "error",
     "traceback": [
      "\u001b[1;31m---------------------------------------------------------------------------\u001b[0m",
      "\u001b[1;31mNameError\u001b[0m                                 Traceback (most recent call last)",
      "Cell \u001b[1;32mIn[30], line 1\u001b[0m\n\u001b[1;32m----> 1\u001b[0m \u001b[38;5;28mprint\u001b[39m(\u001b[43msobr\u001b[49m)\n",
      "\u001b[1;31mNameError\u001b[0m: name 'sobr' is not defined"
     ]
    }
   ],
   "source": [
    "print(sobr)"
   ]
  },
  {
   "cell_type": "code",
   "execution_count": null,
   "id": "9686eaba-c0a5-48be-8ccc-300a83fecb8c",
   "metadata": {},
   "outputs": [],
   "source": [
    "average_runs_by_batsman = batting_data.groupby('batsmanName')['runs'].mean().reset_index()\n"
   ]
  },
  {
   "cell_type": "code",
   "execution_count": null,
   "id": "58775672-9c8b-41d7-ab35-f321e3b57567",
   "metadata": {},
   "outputs": [],
   "source": [
    "average_runs_by_batsman = average_runs_by_batsman.sort_values(by='runs', ascending=False).head(10)\n"
   ]
  },
  {
   "cell_type": "code",
   "execution_count": null,
   "id": "00a9ca94-e39f-4926-85a8-be39fd7d24a8",
   "metadata": {},
   "outputs": [],
   "source": [
    "sns.barplot(x='runs', y='batsmanName', data=average_runs_by_batsman, palette='viridis')\n",
    "\n",
    "# Add titles and labels\n",
    "plt.title('Average Runs by Batsman')\n",
    "plt.xlabel('Average Runs')\n",
    "plt.ylabel('Batsman Name')\n",
    "\n",
    "# Show the plot\n",
    "plt.show()"
   ]
  },
  {
   "cell_type": "code",
   "execution_count": null,
   "id": "05e0bf1d-10bb-42e3-8937-c673da22ddbb",
   "metadata": {},
   "outputs": [],
   "source": [
    "batting_data.columns"
   ]
  },
  {
   "cell_type": "code",
   "execution_count": null,
   "id": "45d9bb92-eb8b-4e53-9c54-9978b23e1ac5",
   "metadata": {},
   "outputs": [],
   "source": [
    "avg_SR = batting_data.groupby('batsmanName')['SR'].mean().reset_index()"
   ]
  },
  {
   "cell_type": "code",
   "execution_count": null,
   "id": "9f3af15a-8280-4948-90b6-43d1655b4e3c",
   "metadata": {},
   "outputs": [],
   "source": [
    "avg_SR = avg_SR.sort_values(by='SR', ascending = False).head(10)"
   ]
  },
  {
   "cell_type": "code",
   "execution_count": null,
   "id": "c2f23682-084f-4d26-8bbc-e7642a690198",
   "metadata": {},
   "outputs": [],
   "source": [
    "sns.barplot(x='SR', y='batsmanName', data=avg_SR, palette='viridis')\n"
   ]
  },
  {
   "cell_type": "code",
   "execution_count": null,
   "id": "0f419434-c982-45ce-b2a6-d77a7e0b5d06",
   "metadata": {},
   "outputs": [],
   "source": [
    "import pandas as pd\n",
    "df = pd.read_csv('Match Summary.csv')\n",
    "df.columns"
   ]
  },
  {
   "cell_type": "code",
   "execution_count": null,
   "id": "6ea6e129-d236-4a7b-afca-7a898d89029b",
   "metadata": {},
   "outputs": [],
   "source": [
    "df.dtypes"
   ]
  },
  {
   "cell_type": "code",
   "execution_count": null,
   "id": "ed4d066d-8787-49af-9757-eb063b87eb75",
   "metadata": {},
   "outputs": [],
   "source": []
  }
 ],
 "metadata": {
  "kernelspec": {
   "display_name": "Python 3 (ipykernel)",
   "language": "python",
   "name": "python3"
  },
  "language_info": {
   "codemirror_mode": {
    "name": "ipython",
    "version": 3
   },
   "file_extension": ".py",
   "mimetype": "text/x-python",
   "name": "python",
   "nbconvert_exporter": "python",
   "pygments_lexer": "ipython3",
   "version": "3.13.0"
  }
 },
 "nbformat": 4,
 "nbformat_minor": 5
}
